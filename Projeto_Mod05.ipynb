{
  "nbformat": 4,
  "nbformat_minor": 0,
  "metadata": {
    "colab": {
      "provenance": [],
      "include_colab_link": true
    },
    "kernelspec": {
      "name": "python3",
      "display_name": "Python 3"
    },
    "language_info": {
      "name": "python"
    }
  },
  "cells": [
    {
      "cell_type": "markdown",
      "metadata": {
        "id": "view-in-github",
        "colab_type": "text"
      },
      "source": [
        "<a href=\"https://colab.research.google.com/github/willianwrasilva/Machine-Learning/blob/main/Projeto_Mod05.ipynb\" target=\"_parent\"><img src=\"https://colab.research.google.com/assets/colab-badge.svg\" alt=\"Open In Colab\"/></a>"
      ]
    },
    {
      "cell_type": "markdown",
      "source": [
        "# Análise das médias de carros brasileiros de 2022 - Tabela FIPE\n",
        "\n",
        "---\n",
        "\n",
        "Autores: \n",
        "  - George Pontes da Cunha\n",
        "  - João Estevan Leoncio da Silva Barbosa\n",
        "  - Matheus Keoma Steinbach\n",
        "  - Vitor Fernando de Souza Rodrigues\n",
        "  - Willian Wallace Ribeiro Alves da Silva\n",
        "\n",
        "e-mails / github: \n",
        "  - george.pontes02@gmail.com / https://github.com/georgecnha\n",
        "  - jestevan12@gmail.com / https://github.com/joaoestevanbarbosa\n",
        "  - keoma.steinbach@gmail.com / https://github.com/matheuskeomas\n",
        "  - vitorfbaiano@gmail.com / https://github.com/VitorFRodrigues/\n",
        "  - willianwra09@gmail.com / https://github.com/willianwrasilva\n",
        "\n",
        "---"
      ],
      "metadata": {
        "id": "xM6t4yKfJNcU"
      }
    },
    {
      "cell_type": "markdown",
      "source": [
        "## 1.Introdução\n",
        "\n",
        "Nos últimos anos a Pandemia tem ocasionado grandes estragos em escala global. Seja nas mais diversas áreas, o ser humano passou por grandes adaptações. No setor econômico não foi diferente, grandes cadeias de fornecimento foram paralizadas por um tempo o que acabou ocasionando atrasos e custos inevitáveis.\n",
        "\n",
        "Atualmente ainda estamos sentindo dos reflexos nos preços dos itens básicos e voláteis e o mesmo aconteceu com o custo dos veículos. A cadeia de produção de matéria prima como aço e semicondutores (*chips*) tem elevado o custo final os veículos.\n",
        "\n",
        "Neste trabalho, vamos analisar o custo dos veículos de acordo com a tabela [FIPE](https://veiculos.fipe.org.br/). Os dados foram retirados semi tratados do [kaggle](https://https://www.kaggle.com/datasets/vagnerbessa/average-car-prices-bazil)."
      ],
      "metadata": {
        "id": "1ZtSgljsJVUV"
      }
    },
    {
      "cell_type": "markdown",
      "source": [
        "## 2.Objetivos\n",
        "\n",
        "### 2.1.Objetivo Geral\n",
        "\n",
        "Como objetivo geral, temos a intenção de criar um algoritmo de machine learning (ML) para utilizar das informações dos veículos levantados pela tabela para prever custos de outros.\n",
        "\n",
        "### 2.2.Objetivos Específicos\n",
        "\n",
        "- Realizar preparação e limpeza dos dados;\n",
        "- Fazer uma análise exploratória;\n",
        "- Aplicar função de correlação em busca de features úteis para o algoritmo;\n",
        "- Criar dois pipelines com algoritmos de ML e realizar comparações entre estes.\n"
      ],
      "metadata": {
        "id": "Famh5plSKjet"
      }
    },
    {
      "cell_type": "markdown",
      "source": [
        "## 3.Preparação e Limpeza dos Dados\n",
        "\n",
        "Vamos iniciar importando as bibliotecas e os dados que serão utilizados para esta seção."
      ],
      "metadata": {
        "id": "HLMSagd6Kufz"
      }
    },
    {
      "cell_type": "code",
      "source": [
        "import pandas as pd\n",
        "import numpy as np\n",
        "import matplotlib.pyplot as plt\n",
        "import seaborn as sns"
      ],
      "metadata": {
        "id": "NfaHgCKxP8W0"
      },
      "execution_count": null,
      "outputs": []
    },
    {
      "cell_type": "markdown",
      "source": [
        "Os datasets usados estão salvos no github conforme url abaixo."
      ],
      "metadata": {
        "id": "XYsOst_PQDE6"
      }
    },
    {
      "cell_type": "code",
      "source": [
        "url = 'https://raw.githubusercontent.com/VitorFRodrigues/Polo_Tech_Americanas/main/Polo_Tech/Modulo_05/Projeto/dataset/fipe_2022.csv'"
      ],
      "metadata": {
        "id": "Ymorj6vCP9pz"
      },
      "execution_count": null,
      "outputs": []
    },
    {
      "cell_type": "code",
      "source": [
        "dados = pd.read_csv(url)\n",
        "dados.head()"
      ],
      "metadata": {
        "colab": {
          "base_uri": "https://localhost:8080/",
          "height": 357
        },
        "id": "8Jjr2-hLQCrj",
        "outputId": "c949ab15-0138-4ed4-82a2-d124cb1ff834"
      },
      "execution_count": null,
      "outputs": [
        {
          "output_type": "execute_result",
          "data": {
            "text/plain": [
              "   year_of_reference month_of_reference fipe_code authentication  brand  \\\n",
              "0               2022            January  038001-6     vwmrywl5qs  Acura   \n",
              "1               2022            January  038001-6     t9mt723qhz  Acura   \n",
              "2               2022            January  038001-6     tr5wv4z21g  Acura   \n",
              "3               2022            January  038001-6     s2xxsjz3mt  Acura   \n",
              "4               2022            January  038001-6     rtm9gj7zk8  Acura   \n",
              "\n",
              "     model      fuel    gear  engine_size  year_model  avg_price_brl  \\\n",
              "0  NSX 3.0  Gasoline  manual          3.0        1995        43779.0   \n",
              "1  NSX 3.0  Gasoline  manual          3.0        1994        42244.0   \n",
              "2  NSX 3.0  Gasoline  manual          3.0        1993        40841.0   \n",
              "3  NSX 3.0  Gasoline  manual          3.0        1992        39028.0   \n",
              "4  NSX 3.0  Gasoline  manual          3.0        1991        35678.0   \n",
              "\n",
              "   age_years  \n",
              "0         28  \n",
              "1         29  \n",
              "2         30  \n",
              "3         31  \n",
              "4         32  "
            ],
            "text/html": [
              "\n",
              "  <div id=\"df-95cb7d46-f1c3-42c4-82e3-d1bd7c1441ad\">\n",
              "    <div class=\"colab-df-container\">\n",
              "      <div>\n",
              "<style scoped>\n",
              "    .dataframe tbody tr th:only-of-type {\n",
              "        vertical-align: middle;\n",
              "    }\n",
              "\n",
              "    .dataframe tbody tr th {\n",
              "        vertical-align: top;\n",
              "    }\n",
              "\n",
              "    .dataframe thead th {\n",
              "        text-align: right;\n",
              "    }\n",
              "</style>\n",
              "<table border=\"1\" class=\"dataframe\">\n",
              "  <thead>\n",
              "    <tr style=\"text-align: right;\">\n",
              "      <th></th>\n",
              "      <th>year_of_reference</th>\n",
              "      <th>month_of_reference</th>\n",
              "      <th>fipe_code</th>\n",
              "      <th>authentication</th>\n",
              "      <th>brand</th>\n",
              "      <th>model</th>\n",
              "      <th>fuel</th>\n",
              "      <th>gear</th>\n",
              "      <th>engine_size</th>\n",
              "      <th>year_model</th>\n",
              "      <th>avg_price_brl</th>\n",
              "      <th>age_years</th>\n",
              "    </tr>\n",
              "  </thead>\n",
              "  <tbody>\n",
              "    <tr>\n",
              "      <th>0</th>\n",
              "      <td>2022</td>\n",
              "      <td>January</td>\n",
              "      <td>038001-6</td>\n",
              "      <td>vwmrywl5qs</td>\n",
              "      <td>Acura</td>\n",
              "      <td>NSX 3.0</td>\n",
              "      <td>Gasoline</td>\n",
              "      <td>manual</td>\n",
              "      <td>3.0</td>\n",
              "      <td>1995</td>\n",
              "      <td>43779.0</td>\n",
              "      <td>28</td>\n",
              "    </tr>\n",
              "    <tr>\n",
              "      <th>1</th>\n",
              "      <td>2022</td>\n",
              "      <td>January</td>\n",
              "      <td>038001-6</td>\n",
              "      <td>t9mt723qhz</td>\n",
              "      <td>Acura</td>\n",
              "      <td>NSX 3.0</td>\n",
              "      <td>Gasoline</td>\n",
              "      <td>manual</td>\n",
              "      <td>3.0</td>\n",
              "      <td>1994</td>\n",
              "      <td>42244.0</td>\n",
              "      <td>29</td>\n",
              "    </tr>\n",
              "    <tr>\n",
              "      <th>2</th>\n",
              "      <td>2022</td>\n",
              "      <td>January</td>\n",
              "      <td>038001-6</td>\n",
              "      <td>tr5wv4z21g</td>\n",
              "      <td>Acura</td>\n",
              "      <td>NSX 3.0</td>\n",
              "      <td>Gasoline</td>\n",
              "      <td>manual</td>\n",
              "      <td>3.0</td>\n",
              "      <td>1993</td>\n",
              "      <td>40841.0</td>\n",
              "      <td>30</td>\n",
              "    </tr>\n",
              "    <tr>\n",
              "      <th>3</th>\n",
              "      <td>2022</td>\n",
              "      <td>January</td>\n",
              "      <td>038001-6</td>\n",
              "      <td>s2xxsjz3mt</td>\n",
              "      <td>Acura</td>\n",
              "      <td>NSX 3.0</td>\n",
              "      <td>Gasoline</td>\n",
              "      <td>manual</td>\n",
              "      <td>3.0</td>\n",
              "      <td>1992</td>\n",
              "      <td>39028.0</td>\n",
              "      <td>31</td>\n",
              "    </tr>\n",
              "    <tr>\n",
              "      <th>4</th>\n",
              "      <td>2022</td>\n",
              "      <td>January</td>\n",
              "      <td>038001-6</td>\n",
              "      <td>rtm9gj7zk8</td>\n",
              "      <td>Acura</td>\n",
              "      <td>NSX 3.0</td>\n",
              "      <td>Gasoline</td>\n",
              "      <td>manual</td>\n",
              "      <td>3.0</td>\n",
              "      <td>1991</td>\n",
              "      <td>35678.0</td>\n",
              "      <td>32</td>\n",
              "    </tr>\n",
              "  </tbody>\n",
              "</table>\n",
              "</div>\n",
              "      <button class=\"colab-df-convert\" onclick=\"convertToInteractive('df-95cb7d46-f1c3-42c4-82e3-d1bd7c1441ad')\"\n",
              "              title=\"Convert this dataframe to an interactive table.\"\n",
              "              style=\"display:none;\">\n",
              "        \n",
              "  <svg xmlns=\"http://www.w3.org/2000/svg\" height=\"24px\"viewBox=\"0 0 24 24\"\n",
              "       width=\"24px\">\n",
              "    <path d=\"M0 0h24v24H0V0z\" fill=\"none\"/>\n",
              "    <path d=\"M18.56 5.44l.94 2.06.94-2.06 2.06-.94-2.06-.94-.94-2.06-.94 2.06-2.06.94zm-11 1L8.5 8.5l.94-2.06 2.06-.94-2.06-.94L8.5 2.5l-.94 2.06-2.06.94zm10 10l.94 2.06.94-2.06 2.06-.94-2.06-.94-.94-2.06-.94 2.06-2.06.94z\"/><path d=\"M17.41 7.96l-1.37-1.37c-.4-.4-.92-.59-1.43-.59-.52 0-1.04.2-1.43.59L10.3 9.45l-7.72 7.72c-.78.78-.78 2.05 0 2.83L4 21.41c.39.39.9.59 1.41.59.51 0 1.02-.2 1.41-.59l7.78-7.78 2.81-2.81c.8-.78.8-2.07 0-2.86zM5.41 20L4 18.59l7.72-7.72 1.47 1.35L5.41 20z\"/>\n",
              "  </svg>\n",
              "      </button>\n",
              "      \n",
              "  <style>\n",
              "    .colab-df-container {\n",
              "      display:flex;\n",
              "      flex-wrap:wrap;\n",
              "      gap: 12px;\n",
              "    }\n",
              "\n",
              "    .colab-df-convert {\n",
              "      background-color: #E8F0FE;\n",
              "      border: none;\n",
              "      border-radius: 50%;\n",
              "      cursor: pointer;\n",
              "      display: none;\n",
              "      fill: #1967D2;\n",
              "      height: 32px;\n",
              "      padding: 0 0 0 0;\n",
              "      width: 32px;\n",
              "    }\n",
              "\n",
              "    .colab-df-convert:hover {\n",
              "      background-color: #E2EBFA;\n",
              "      box-shadow: 0px 1px 2px rgba(60, 64, 67, 0.3), 0px 1px 3px 1px rgba(60, 64, 67, 0.15);\n",
              "      fill: #174EA6;\n",
              "    }\n",
              "\n",
              "    [theme=dark] .colab-df-convert {\n",
              "      background-color: #3B4455;\n",
              "      fill: #D2E3FC;\n",
              "    }\n",
              "\n",
              "    [theme=dark] .colab-df-convert:hover {\n",
              "      background-color: #434B5C;\n",
              "      box-shadow: 0px 1px 3px 1px rgba(0, 0, 0, 0.15);\n",
              "      filter: drop-shadow(0px 1px 2px rgba(0, 0, 0, 0.3));\n",
              "      fill: #FFFFFF;\n",
              "    }\n",
              "  </style>\n",
              "\n",
              "      <script>\n",
              "        const buttonEl =\n",
              "          document.querySelector('#df-95cb7d46-f1c3-42c4-82e3-d1bd7c1441ad button.colab-df-convert');\n",
              "        buttonEl.style.display =\n",
              "          google.colab.kernel.accessAllowed ? 'block' : 'none';\n",
              "\n",
              "        async function convertToInteractive(key) {\n",
              "          const element = document.querySelector('#df-95cb7d46-f1c3-42c4-82e3-d1bd7c1441ad');\n",
              "          const dataTable =\n",
              "            await google.colab.kernel.invokeFunction('convertToInteractive',\n",
              "                                                     [key], {});\n",
              "          if (!dataTable) return;\n",
              "\n",
              "          const docLinkHtml = 'Like what you see? Visit the ' +\n",
              "            '<a target=\"_blank\" href=https://colab.research.google.com/notebooks/data_table.ipynb>data table notebook</a>'\n",
              "            + ' to learn more about interactive tables.';\n",
              "          element.innerHTML = '';\n",
              "          dataTable['output_type'] = 'display_data';\n",
              "          await google.colab.output.renderOutput(dataTable, element);\n",
              "          const docLink = document.createElement('div');\n",
              "          docLink.innerHTML = docLinkHtml;\n",
              "          element.appendChild(docLink);\n",
              "        }\n",
              "      </script>\n",
              "    </div>\n",
              "  </div>\n",
              "  "
            ]
          },
          "metadata": {},
          "execution_count": 3
        }
      ]
    },
    {
      "cell_type": "markdown",
      "source": [
        "A descrição dos dados é informada no [Kaggle](https://https://www.kaggle.com/datasets/vagnerbessa/average-car-prices-bazil). A título informativo, segue abaixo descrição básica do que cada coluna (feature) informa:\n",
        "\n",
        "- ```year_of_reference```: ano de referência da observação, ou seja, o ano a que os dados correspondem.\n",
        "- ```month_of_reference```: mês de referência da observação, ou seja, o mês a que os dados correspondem. O preço médio é calculado pela FIPE a cada mês.\n",
        "- ```fipe_code```: id único correspondente a um modelo para facilitar a busca na página da FIPE.\n",
        "- ```authentication```: código único que autentica a consulta no site da FIPE.\n",
        "- ```brand```: marca do carro.\n",
        "- ```model```: descrição do carro contendo o nome e demais informações descritivas, conforme tabela FIPE.\n",
        "- ```fuel```: combustível utilizado pelo carro. Alguns dos carros a gasolina são na verdade álcool e gasolina (flex), o que é comum no Brasil.\n",
        "- ```gear```: a maneira como as marchas são trocadas.\n",
        "- ```engine_size```: Tamanho do motor em centímetros cúbicos.\n",
        "- ```year_model```: esses valores correspondem ao ano de referência, podendo não ser iguais ao ano de fabricação, que no caso corresponderá a um ano anterior ao ```year_model```. Observações com ```year_model = year_of_reference``` significam que o carro é do ano de referência, ou seja, um carro 2021 com ```year_of_reference = 2021``` e ```moth_of_reference = July``` significa que a observação (principalmente o preço médio) corresponde a um carro novo do ano de 2021, do mês de julho. O mesmo modelo pode ter um preço médio diferente para meses diferentes.\n",
        "- ```avg_price_brl```: preço médio do carro, medido pela FIPE, em Real."
      ],
      "metadata": {
        "id": "25b-tzZUQzLO"
      }
    },
    {
      "cell_type": "code",
      "source": [
        "dados.info()"
      ],
      "metadata": {
        "colab": {
          "base_uri": "https://localhost:8080/"
        },
        "id": "cCeKTgQlQmsl",
        "outputId": "b34dda4e-c589-4fbe-99f8-d0659a3076bd"
      },
      "execution_count": null,
      "outputs": [
        {
          "output_type": "stream",
          "name": "stdout",
          "text": [
            "<class 'pandas.core.frame.DataFrame'>\n",
            "RangeIndex: 290275 entries, 0 to 290274\n",
            "Data columns (total 12 columns):\n",
            " #   Column              Non-Null Count   Dtype  \n",
            "---  ------              --------------   -----  \n",
            " 0   year_of_reference   290275 non-null  int64  \n",
            " 1   month_of_reference  290275 non-null  object \n",
            " 2   fipe_code           290275 non-null  object \n",
            " 3   authentication      290275 non-null  object \n",
            " 4   brand               290275 non-null  object \n",
            " 5   model               290275 non-null  object \n",
            " 6   fuel                290275 non-null  object \n",
            " 7   gear                290275 non-null  object \n",
            " 8   engine_size         290275 non-null  float64\n",
            " 9   year_model          290275 non-null  int64  \n",
            " 10  avg_price_brl       290275 non-null  float64\n",
            " 11  age_years           290275 non-null  int64  \n",
            "dtypes: float64(2), int64(3), object(7)\n",
            "memory usage: 26.6+ MB\n"
          ]
        }
      ]
    },
    {
      "cell_type": "markdown",
      "source": [
        "Conforme visto nas informações básicas do dataframe, não há dados nulos e temos 7 colunas do tipo objeto e 5 do tipo numéricas. Como tratamento inicial iremos:\n",
        "\n",
        "1. Remover ```year_of_reference``` por possuir apenas o valor ```2022```;\n",
        "1. Remover ```fipe_code``` e ```authentication``` por se tratarem de dados do tipo identificadores os quais não serão úteis ao algoritmo ML;\n",
        "1. Remoção de Outliers das features numéricas."
      ],
      "metadata": {
        "id": "wG2Q-T2mRP43"
      }
    },
    {
      "cell_type": "code",
      "source": [
        "# Remoção de features desnecessárias\n",
        "dados_limpos = dados.drop(['year_of_reference', 'fipe_code', 'authentication'], axis=1)\n",
        "dados_limpos.head()"
      ],
      "metadata": {
        "colab": {
          "base_uri": "https://localhost:8080/",
          "height": 206
        },
        "id": "wvzU7pTsTLIO",
        "outputId": "e89e8241-ace9-4e4c-db62-fc1547e54548"
      },
      "execution_count": null,
      "outputs": [
        {
          "output_type": "execute_result",
          "data": {
            "text/plain": [
              "  month_of_reference  brand    model      fuel    gear  engine_size  \\\n",
              "0            January  Acura  NSX 3.0  Gasoline  manual          3.0   \n",
              "1            January  Acura  NSX 3.0  Gasoline  manual          3.0   \n",
              "2            January  Acura  NSX 3.0  Gasoline  manual          3.0   \n",
              "3            January  Acura  NSX 3.0  Gasoline  manual          3.0   \n",
              "4            January  Acura  NSX 3.0  Gasoline  manual          3.0   \n",
              "\n",
              "   year_model  avg_price_brl  age_years  \n",
              "0        1995        43779.0         28  \n",
              "1        1994        42244.0         29  \n",
              "2        1993        40841.0         30  \n",
              "3        1992        39028.0         31  \n",
              "4        1991        35678.0         32  "
            ],
            "text/html": [
              "\n",
              "  <div id=\"df-6501feaa-7852-48ce-8b2a-e5feb6d81e38\">\n",
              "    <div class=\"colab-df-container\">\n",
              "      <div>\n",
              "<style scoped>\n",
              "    .dataframe tbody tr th:only-of-type {\n",
              "        vertical-align: middle;\n",
              "    }\n",
              "\n",
              "    .dataframe tbody tr th {\n",
              "        vertical-align: top;\n",
              "    }\n",
              "\n",
              "    .dataframe thead th {\n",
              "        text-align: right;\n",
              "    }\n",
              "</style>\n",
              "<table border=\"1\" class=\"dataframe\">\n",
              "  <thead>\n",
              "    <tr style=\"text-align: right;\">\n",
              "      <th></th>\n",
              "      <th>month_of_reference</th>\n",
              "      <th>brand</th>\n",
              "      <th>model</th>\n",
              "      <th>fuel</th>\n",
              "      <th>gear</th>\n",
              "      <th>engine_size</th>\n",
              "      <th>year_model</th>\n",
              "      <th>avg_price_brl</th>\n",
              "      <th>age_years</th>\n",
              "    </tr>\n",
              "  </thead>\n",
              "  <tbody>\n",
              "    <tr>\n",
              "      <th>0</th>\n",
              "      <td>January</td>\n",
              "      <td>Acura</td>\n",
              "      <td>NSX 3.0</td>\n",
              "      <td>Gasoline</td>\n",
              "      <td>manual</td>\n",
              "      <td>3.0</td>\n",
              "      <td>1995</td>\n",
              "      <td>43779.0</td>\n",
              "      <td>28</td>\n",
              "    </tr>\n",
              "    <tr>\n",
              "      <th>1</th>\n",
              "      <td>January</td>\n",
              "      <td>Acura</td>\n",
              "      <td>NSX 3.0</td>\n",
              "      <td>Gasoline</td>\n",
              "      <td>manual</td>\n",
              "      <td>3.0</td>\n",
              "      <td>1994</td>\n",
              "      <td>42244.0</td>\n",
              "      <td>29</td>\n",
              "    </tr>\n",
              "    <tr>\n",
              "      <th>2</th>\n",
              "      <td>January</td>\n",
              "      <td>Acura</td>\n",
              "      <td>NSX 3.0</td>\n",
              "      <td>Gasoline</td>\n",
              "      <td>manual</td>\n",
              "      <td>3.0</td>\n",
              "      <td>1993</td>\n",
              "      <td>40841.0</td>\n",
              "      <td>30</td>\n",
              "    </tr>\n",
              "    <tr>\n",
              "      <th>3</th>\n",
              "      <td>January</td>\n",
              "      <td>Acura</td>\n",
              "      <td>NSX 3.0</td>\n",
              "      <td>Gasoline</td>\n",
              "      <td>manual</td>\n",
              "      <td>3.0</td>\n",
              "      <td>1992</td>\n",
              "      <td>39028.0</td>\n",
              "      <td>31</td>\n",
              "    </tr>\n",
              "    <tr>\n",
              "      <th>4</th>\n",
              "      <td>January</td>\n",
              "      <td>Acura</td>\n",
              "      <td>NSX 3.0</td>\n",
              "      <td>Gasoline</td>\n",
              "      <td>manual</td>\n",
              "      <td>3.0</td>\n",
              "      <td>1991</td>\n",
              "      <td>35678.0</td>\n",
              "      <td>32</td>\n",
              "    </tr>\n",
              "  </tbody>\n",
              "</table>\n",
              "</div>\n",
              "      <button class=\"colab-df-convert\" onclick=\"convertToInteractive('df-6501feaa-7852-48ce-8b2a-e5feb6d81e38')\"\n",
              "              title=\"Convert this dataframe to an interactive table.\"\n",
              "              style=\"display:none;\">\n",
              "        \n",
              "  <svg xmlns=\"http://www.w3.org/2000/svg\" height=\"24px\"viewBox=\"0 0 24 24\"\n",
              "       width=\"24px\">\n",
              "    <path d=\"M0 0h24v24H0V0z\" fill=\"none\"/>\n",
              "    <path d=\"M18.56 5.44l.94 2.06.94-2.06 2.06-.94-2.06-.94-.94-2.06-.94 2.06-2.06.94zm-11 1L8.5 8.5l.94-2.06 2.06-.94-2.06-.94L8.5 2.5l-.94 2.06-2.06.94zm10 10l.94 2.06.94-2.06 2.06-.94-2.06-.94-.94-2.06-.94 2.06-2.06.94z\"/><path d=\"M17.41 7.96l-1.37-1.37c-.4-.4-.92-.59-1.43-.59-.52 0-1.04.2-1.43.59L10.3 9.45l-7.72 7.72c-.78.78-.78 2.05 0 2.83L4 21.41c.39.39.9.59 1.41.59.51 0 1.02-.2 1.41-.59l7.78-7.78 2.81-2.81c.8-.78.8-2.07 0-2.86zM5.41 20L4 18.59l7.72-7.72 1.47 1.35L5.41 20z\"/>\n",
              "  </svg>\n",
              "      </button>\n",
              "      \n",
              "  <style>\n",
              "    .colab-df-container {\n",
              "      display:flex;\n",
              "      flex-wrap:wrap;\n",
              "      gap: 12px;\n",
              "    }\n",
              "\n",
              "    .colab-df-convert {\n",
              "      background-color: #E8F0FE;\n",
              "      border: none;\n",
              "      border-radius: 50%;\n",
              "      cursor: pointer;\n",
              "      display: none;\n",
              "      fill: #1967D2;\n",
              "      height: 32px;\n",
              "      padding: 0 0 0 0;\n",
              "      width: 32px;\n",
              "    }\n",
              "\n",
              "    .colab-df-convert:hover {\n",
              "      background-color: #E2EBFA;\n",
              "      box-shadow: 0px 1px 2px rgba(60, 64, 67, 0.3), 0px 1px 3px 1px rgba(60, 64, 67, 0.15);\n",
              "      fill: #174EA6;\n",
              "    }\n",
              "\n",
              "    [theme=dark] .colab-df-convert {\n",
              "      background-color: #3B4455;\n",
              "      fill: #D2E3FC;\n",
              "    }\n",
              "\n",
              "    [theme=dark] .colab-df-convert:hover {\n",
              "      background-color: #434B5C;\n",
              "      box-shadow: 0px 1px 3px 1px rgba(0, 0, 0, 0.15);\n",
              "      filter: drop-shadow(0px 1px 2px rgba(0, 0, 0, 0.3));\n",
              "      fill: #FFFFFF;\n",
              "    }\n",
              "  </style>\n",
              "\n",
              "      <script>\n",
              "        const buttonEl =\n",
              "          document.querySelector('#df-6501feaa-7852-48ce-8b2a-e5feb6d81e38 button.colab-df-convert');\n",
              "        buttonEl.style.display =\n",
              "          google.colab.kernel.accessAllowed ? 'block' : 'none';\n",
              "\n",
              "        async function convertToInteractive(key) {\n",
              "          const element = document.querySelector('#df-6501feaa-7852-48ce-8b2a-e5feb6d81e38');\n",
              "          const dataTable =\n",
              "            await google.colab.kernel.invokeFunction('convertToInteractive',\n",
              "                                                     [key], {});\n",
              "          if (!dataTable) return;\n",
              "\n",
              "          const docLinkHtml = 'Like what you see? Visit the ' +\n",
              "            '<a target=\"_blank\" href=https://colab.research.google.com/notebooks/data_table.ipynb>data table notebook</a>'\n",
              "            + ' to learn more about interactive tables.';\n",
              "          element.innerHTML = '';\n",
              "          dataTable['output_type'] = 'display_data';\n",
              "          await google.colab.output.renderOutput(dataTable, element);\n",
              "          const docLink = document.createElement('div');\n",
              "          docLink.innerHTML = docLinkHtml;\n",
              "          element.appendChild(docLink);\n",
              "        }\n",
              "      </script>\n",
              "    </div>\n",
              "  </div>\n",
              "  "
            ]
          },
          "metadata": {},
          "execution_count": 11
        }
      ]
    },
    {
      "cell_type": "code",
      "source": [
        "# Remoção de Outliers utilizando a feature 'avg_price_brl' como base\n",
        "\n",
        "# Separação de quartis\n",
        "Q1 = np.percentile(dados_limpos['avg_price_brl'], 25)\n",
        "\n",
        "Q3 = np.percentile(dados_limpos['avg_price_brl'], 75)\n",
        "IQR = Q3 - Q1\n",
        "\n",
        "antes = dados_limpos.shape[0]\n",
        "print(f\"Quantidades linhas antes: {antes}\")\n",
        "\n",
        "# Limite Superior\n",
        "upper = np.where(dados_limpos['avg_price_brl'] >= (Q3+1.5*IQR))\n",
        "# Limite inferior\n",
        "lower = np.where(dados_limpos['avg_price_brl'] <= (Q1-1.5*IQR))\n",
        "\n",
        "# Remoção de Outliers\n",
        "dados_limpos.drop(upper[0], inplace = True)\n",
        "dados_limpos.drop(lower[0], inplace = True)\n",
        "\n",
        "depois = dados_limpos.shape[0]\n",
        "print(f\"Quantidades linhas depois: {depois}\")\n",
        "print(f\"Diferença: {antes - depois}\")"
      ],
      "metadata": {
        "colab": {
          "base_uri": "https://localhost:8080/"
        },
        "id": "d-VzjyF0Gmcn",
        "outputId": "f00575eb-95d3-4d98-a662-522a71f2fc73"
      },
      "execution_count": null,
      "outputs": [
        {
          "output_type": "stream",
          "name": "stdout",
          "text": [
            "Quantidades linhas antes: 290275\n",
            "Quantidades linhas depois: 258277\n",
            "Diferença: 31998\n"
          ]
        }
      ]
    },
    {
      "cell_type": "markdown",
      "source": [
        "Estamos priorizando acertar o preço dos carros mais populares, por conta disto, vamos remover os modelos que estão muito caros ou muito baratos (outliers)."
      ],
      "metadata": {
        "id": "eh7tDKrl2qA-"
      }
    },
    {
      "cell_type": "markdown",
      "source": [
        "## 4.Análise Exploratória"
      ],
      "metadata": {
        "id": "70cN5mQLK19S"
      }
    },
    {
      "cell_type": "markdown",
      "source": [
        "Importância na remoção dos Outliers"
      ],
      "metadata": {
        "id": "8zQr_bWwZOgh"
      }
    },
    {
      "cell_type": "code",
      "source": [
        "plt.figure(figsize=(6,3))\n",
        "\n",
        "plt.subplot(1,2,1)\n",
        "plt.title('Preços Médios: Histograma', fontdict={'fontsize':12})\n",
        "sns.displot(dados.avg_price_brl, color=\"#40E0D0\", kde_kws={'linewidth':3,'color':'b'})\n",
        "\n",
        "plt.subplot(1,2,2)\n",
        "plt.title('Preços Médios: Box-Plot', fontdict={'fontsize':12})\n",
        "sns.boxplot(dados.avg_price_brl, color=\"#40E0D0\")"
      ],
      "metadata": {
        "colab": {
          "base_uri": "https://localhost:8080/",
          "height": 663
        },
        "id": "HwYly3hYZOPW",
        "outputId": "fb18a79e-a28d-4cc3-9591-58a0b32348c7"
      },
      "execution_count": null,
      "outputs": [
        {
          "output_type": "stream",
          "name": "stderr",
          "text": [
            "<ipython-input-30-80d09c9e1fda>:7: MatplotlibDeprecationWarning: Auto-removal of overlapping axes is deprecated since 3.6 and will be removed two minor releases later; explicitly call ax.remove() as needed.\n",
            "  plt.subplot(1,2,2)\n"
          ]
        },
        {
          "output_type": "execute_result",
          "data": {
            "text/plain": [
              "<Axes: title={'center': 'Preços Médios: Box-Plot'}>"
            ]
          },
          "metadata": {},
          "execution_count": 30
        },
        {
          "output_type": "display_data",
          "data": {
            "text/plain": [
              "<Figure size 432x216 with 1 Axes>"
            ],
            "image/png": "[encoded data removed]"
          },
          "metadata": {
            "needs_background": "light"
          }
        },
        {
          "output_type": "display_data",
          "data": {
            "text/plain": [
              "<Figure size 360x360 with 1 Axes>"
            ],
            "image/png": "[encoded data removed]"
          },
          "metadata": {
            "needs_background": "light"
          }
        }
      ]
    },
    {
      "cell_type": "markdown",
      "source": [],
      "metadata": {
        "id": "RRgQwUdGanFv"
      }
    },
    {
      "cell_type": "code",
      "source": [],
      "metadata": {
        "id": "o-lUk1oNYRVq"
      },
      "execution_count": null,
      "outputs": []
    },
    {
      "cell_type": "markdown",
      "source": [
        "## 5.Aplicação algoritmos ML"
      ],
      "metadata": {
        "id": "MABFDJaRK5sJ"
      }
    },
    {
      "cell_type": "markdown",
      "source": [
        "Mapa de correlação de itens numéricos"
      ],
      "metadata": {
        "id": "__xC_N6Q4Kf0"
      }
    },
    {
      "cell_type": "code",
      "source": [
        "plt.figure(figsize=(10,5))\n",
        "corr = dados_limpos.corr(method='pearson').round(4)\n",
        "sns.heatmap(corr, annot=True, cmap=\"YlGnBu\")\n",
        "plt.title(\"Correlation Heatmap\", fontdict={'fontsize':15})"
      ],
      "metadata": {
        "id": "j9or2SeD4Oi2",
        "outputId": "437819a7-65d8-4b67-ee0c-48f7a0daf0a8",
        "colab": {
          "base_uri": "https://localhost:8080/",
          "height": 487
        }
      },
      "execution_count": null,
      "outputs": [
        {
          "output_type": "execute_result",
          "data": {
            "text/plain": [
              "Text(0.5, 1.0, 'Correlation Heatmap')"
            ]
          },
          "metadata": {},
          "execution_count": 13
        },
        {
          "output_type": "display_data",
          "data": {
            "text/plain": [
              "<Figure size 1000x500 with 2 Axes>"
            ],
            "image/png": "[encoded data removed]"
          },
          "metadata": {}
        }
      ]
    },
    {
      "cell_type": "markdown",
      "source": [
        "Utilização do label Encoder para categorização de valores categóricos."
      ],
      "metadata": {
        "id": "mj-17tPo4KWl"
      }
    },
    {
      "cell_type": "code",
      "source": [
        "## splitting categorical and numerical data\n",
        "\n",
        "categoricos_df = dados_limpos[['month_of_reference', 'brand', 'model', 'fuel', 'gear']]\n",
        "numericos_df = dados_limpos[['engine_size', 'year_model', 'avg_price_brl', 'age_years']]"
      ],
      "metadata": {
        "id": "Bb1ihi2m3duZ"
      },
      "execution_count": null,
      "outputs": []
    },
    {
      "cell_type": "code",
      "source": [
        "from sklearn.preprocessing import LabelEncoder\n",
        "## label encoding \n",
        "le = LabelEncoder ()\n",
        "\n",
        "#select ctegorical columns \n",
        "cat_df = dados_limpos[categoricos_df.columns]\n",
        "\n",
        "for i in categoricos_df:\n",
        "    categoricos_df[i] = le.fit_transform(dados_limpos[i])\n",
        "\n",
        "#joining the data to the numeric data\n",
        "numericos_df = dados_limpos[numericos_df.columns]\n",
        "dados_limpos = pd.concat([numericos_df, categoricos_df], axis=1)"
      ],
      "metadata": {
        "id": "3WXgld4d4wOS"
      },
      "execution_count": null,
      "outputs": []
    },
    {
      "cell_type": "code",
      "source": [
        "dados_limpos.head()"
      ],
      "metadata": {
        "id": "8soKVcFZ6VDs",
        "outputId": "aebcbe23-8632-4820-9080-ae98bcd4c8db",
        "colab": {
          "base_uri": "https://localhost:8080/",
          "height": 206
        }
      },
      "execution_count": null,
      "outputs": [
        {
          "output_type": "execute_result",
          "data": {
            "text/plain": [
              "   engine_size  year_model  avg_price_brl  age_years  month_of_reference  \\\n",
              "0          3.0        1995        43779.0         28                   4   \n",
              "1          3.0        1994        42244.0         29                   4   \n",
              "2          3.0        1993        40841.0         30                   4   \n",
              "3          3.0        1992        39028.0         31                   4   \n",
              "4          3.0        1991        35678.0         32                   4   \n",
              "\n",
              "   brand  model  fuel  gear  \n",
              "0      0   3290     2     1  \n",
              "1      0   3290     2     1  \n",
              "2      0   3290     2     1  \n",
              "3      0   3290     2     1  \n",
              "4      0   3290     2     1  "
            ],
            "text/html": [
              "\n",
              "  <div id=\"df-bbfc1b9b-1973-4de1-9eea-9d0c93a3008f\">\n",
              "    <div class=\"colab-df-container\">\n",
              "      <div>\n",
              "<style scoped>\n",
              "    .dataframe tbody tr th:only-of-type {\n",
              "        vertical-align: middle;\n",
              "    }\n",
              "\n",
              "    .dataframe tbody tr th {\n",
              "        vertical-align: top;\n",
              "    }\n",
              "\n",
              "    .dataframe thead th {\n",
              "        text-align: right;\n",
              "    }\n",
              "</style>\n",
              "<table border=\"1\" class=\"dataframe\">\n",
              "  <thead>\n",
              "    <tr style=\"text-align: right;\">\n",
              "      <th></th>\n",
              "      <th>engine_size</th>\n",
              "      <th>year_model</th>\n",
              "      <th>avg_price_brl</th>\n",
              "      <th>age_years</th>\n",
              "      <th>month_of_reference</th>\n",
              "      <th>brand</th>\n",
              "      <th>model</th>\n",
              "      <th>fuel</th>\n",
              "      <th>gear</th>\n",
              "    </tr>\n",
              "  </thead>\n",
              "  <tbody>\n",
              "    <tr>\n",
              "      <th>0</th>\n",
              "      <td>3.0</td>\n",
              "      <td>1995</td>\n",
              "      <td>43779.0</td>\n",
              "      <td>28</td>\n",
              "      <td>4</td>\n",
              "      <td>0</td>\n",
              "      <td>3290</td>\n",
              "      <td>2</td>\n",
              "      <td>1</td>\n",
              "    </tr>\n",
              "    <tr>\n",
              "      <th>1</th>\n",
              "      <td>3.0</td>\n",
              "      <td>1994</td>\n",
              "      <td>42244.0</td>\n",
              "      <td>29</td>\n",
              "      <td>4</td>\n",
              "      <td>0</td>\n",
              "      <td>3290</td>\n",
              "      <td>2</td>\n",
              "      <td>1</td>\n",
              "    </tr>\n",
              "    <tr>\n",
              "      <th>2</th>\n",
              "      <td>3.0</td>\n",
              "      <td>1993</td>\n",
              "      <td>40841.0</td>\n",
              "      <td>30</td>\n",
              "      <td>4</td>\n",
              "      <td>0</td>\n",
              "      <td>3290</td>\n",
              "      <td>2</td>\n",
              "      <td>1</td>\n",
              "    </tr>\n",
              "    <tr>\n",
              "      <th>3</th>\n",
              "      <td>3.0</td>\n",
              "      <td>1992</td>\n",
              "      <td>39028.0</td>\n",
              "      <td>31</td>\n",
              "      <td>4</td>\n",
              "      <td>0</td>\n",
              "      <td>3290</td>\n",
              "      <td>2</td>\n",
              "      <td>1</td>\n",
              "    </tr>\n",
              "    <tr>\n",
              "      <th>4</th>\n",
              "      <td>3.0</td>\n",
              "      <td>1991</td>\n",
              "      <td>35678.0</td>\n",
              "      <td>32</td>\n",
              "      <td>4</td>\n",
              "      <td>0</td>\n",
              "      <td>3290</td>\n",
              "      <td>2</td>\n",
              "      <td>1</td>\n",
              "    </tr>\n",
              "  </tbody>\n",
              "</table>\n",
              "</div>\n",
              "      <button class=\"colab-df-convert\" onclick=\"convertToInteractive('df-bbfc1b9b-1973-4de1-9eea-9d0c93a3008f')\"\n",
              "              title=\"Convert this dataframe to an interactive table.\"\n",
              "              style=\"display:none;\">\n",
              "        \n",
              "  <svg xmlns=\"http://www.w3.org/2000/svg\" height=\"24px\"viewBox=\"0 0 24 24\"\n",
              "       width=\"24px\">\n",
              "    <path d=\"M0 0h24v24H0V0z\" fill=\"none\"/>\n",
              "    <path d=\"M18.56 5.44l.94 2.06.94-2.06 2.06-.94-2.06-.94-.94-2.06-.94 2.06-2.06.94zm-11 1L8.5 8.5l.94-2.06 2.06-.94-2.06-.94L8.5 2.5l-.94 2.06-2.06.94zm10 10l.94 2.06.94-2.06 2.06-.94-2.06-.94-.94-2.06-.94 2.06-2.06.94z\"/><path d=\"M17.41 7.96l-1.37-1.37c-.4-.4-.92-.59-1.43-.59-.52 0-1.04.2-1.43.59L10.3 9.45l-7.72 7.72c-.78.78-.78 2.05 0 2.83L4 21.41c.39.39.9.59 1.41.59.51 0 1.02-.2 1.41-.59l7.78-7.78 2.81-2.81c.8-.78.8-2.07 0-2.86zM5.41 20L4 18.59l7.72-7.72 1.47 1.35L5.41 20z\"/>\n",
              "  </svg>\n",
              "      </button>\n",
              "      \n",
              "  <style>\n",
              "    .colab-df-container {\n",
              "      display:flex;\n",
              "      flex-wrap:wrap;\n",
              "      gap: 12px;\n",
              "    }\n",
              "\n",
              "    .colab-df-convert {\n",
              "      background-color: #E8F0FE;\n",
              "      border: none;\n",
              "      border-radius: 50%;\n",
              "      cursor: pointer;\n",
              "      display: none;\n",
              "      fill: #1967D2;\n",
              "      height: 32px;\n",
              "      padding: 0 0 0 0;\n",
              "      width: 32px;\n",
              "    }\n",
              "\n",
              "    .colab-df-convert:hover {\n",
              "      background-color: #E2EBFA;\n",
              "      box-shadow: 0px 1px 2px rgba(60, 64, 67, 0.3), 0px 1px 3px 1px rgba(60, 64, 67, 0.15);\n",
              "      fill: #174EA6;\n",
              "    }\n",
              "\n",
              "    [theme=dark] .colab-df-convert {\n",
              "      background-color: #3B4455;\n",
              "      fill: #D2E3FC;\n",
              "    }\n",
              "\n",
              "    [theme=dark] .colab-df-convert:hover {\n",
              "      background-color: #434B5C;\n",
              "      box-shadow: 0px 1px 3px 1px rgba(0, 0, 0, 0.15);\n",
              "      filter: drop-shadow(0px 1px 2px rgba(0, 0, 0, 0.3));\n",
              "      fill: #FFFFFF;\n",
              "    }\n",
              "  </style>\n",
              "\n",
              "      <script>\n",
              "        const buttonEl =\n",
              "          document.querySelector('#df-bbfc1b9b-1973-4de1-9eea-9d0c93a3008f button.colab-df-convert');\n",
              "        buttonEl.style.display =\n",
              "          google.colab.kernel.accessAllowed ? 'block' : 'none';\n",
              "\n",
              "        async function convertToInteractive(key) {\n",
              "          const element = document.querySelector('#df-bbfc1b9b-1973-4de1-9eea-9d0c93a3008f');\n",
              "          const dataTable =\n",
              "            await google.colab.kernel.invokeFunction('convertToInteractive',\n",
              "                                                     [key], {});\n",
              "          if (!dataTable) return;\n",
              "\n",
              "          const docLinkHtml = 'Like what you see? Visit the ' +\n",
              "            '<a target=\"_blank\" href=https://colab.research.google.com/notebooks/data_table.ipynb>data table notebook</a>'\n",
              "            + ' to learn more about interactive tables.';\n",
              "          element.innerHTML = '';\n",
              "          dataTable['output_type'] = 'display_data';\n",
              "          await google.colab.output.renderOutput(dataTable, element);\n",
              "          const docLink = document.createElement('div');\n",
              "          docLink.innerHTML = docLinkHtml;\n",
              "          element.appendChild(docLink);\n",
              "        }\n",
              "      </script>\n",
              "    </div>\n",
              "  </div>\n",
              "  "
            ]
          },
          "metadata": {},
          "execution_count": 17
        }
      ]
    },
    {
      "cell_type": "markdown",
      "source": [
        "Separando os dados de entrada/saída e seus respectivos treino e teste"
      ],
      "metadata": {
        "id": "IAKDskCV6osf"
      }
    },
    {
      "cell_type": "code",
      "source": [
        "# Segregating the Dependent Variable in Y-axis and Independent Variables in X-axis\n",
        "X = dados_limpos.drop(columns=[\"avg_price_brl\"], axis=1)\n",
        "y = dados_limpos[\"avg_price_brl\"]"
      ],
      "metadata": {
        "id": "QmZkFJKz6wa5"
      },
      "execution_count": null,
      "outputs": []
    },
    {
      "cell_type": "markdown",
      "source": [
        "Criação de modelos e importações"
      ],
      "metadata": {
        "id": "7PUMOvWk7Rg_"
      }
    },
    {
      "cell_type": "code",
      "source": [
        "from sklearn.preprocessing import StandardScaler\n",
        "\n",
        "from sklearn.tree import DecisionTreeClassifier\n",
        "from sklearn.model_selection import GridSearchCV, StratifiedKFold, train_test_split\n",
        "\n",
        "from sklearn.pipeline import Pipeline\n",
        "\n",
        "from sklearn.metrics import ConfusionMatrixDisplay, classification_report\n",
        "from sklearn.ensemble import RandomForestRegressor\n",
        "from sklearn.tree import DecisionTreeRegressor\n",
        "from sklearn.tree import plot_tree"
      ],
      "metadata": {
        "id": "61gJOt1V7RJT"
      },
      "execution_count": null,
      "outputs": []
    },
    {
      "cell_type": "code",
      "source": [
        "X_train, X_test, y_train, y_test = train_test_split(X, y, test_size = 0.2)"
      ],
      "metadata": {
        "id": "ezteOz8F-hAN"
      },
      "execution_count": null,
      "outputs": []
    },
    {
      "cell_type": "code",
      "source": [
        "pipe = Pipeline([(\"std_scaler\", StandardScaler()),\n",
        "                 (\"dtr\", DecisionTreeRegressor(random_state=42))])\n",
        "\n",
        "# params_grid_dtr = {\"dtr__criterion\" : [\"squared_error\", \"friedman_mse\", \"absolute_error\"],\n",
        "#                   \"dtr__splitter\" : [\"best\", \"random\"],\n",
        "#                   \"dtr__max_depth\" : range(4, 15),\n",
        "#                   \"dtr__min_samples_leaf\" : range(1,5)}   \n",
        "\n",
        "params_grid_dtr = {\"dtr__criterion\" : [\"squared_error\"],\n",
        "                  \"dtr__splitter\" : [\"best\"],\n",
        "                  \"dtr__max_depth\" : range(4, 5),\n",
        "                  \"dtr__min_samples_leaf\" : range(1,2)}  \n",
        "splitter = StratifiedKFold(n_splits=10, shuffle=True, random_state=42)\n",
        "\n",
        "grid_dtr = GridSearchCV(estimator=pipe,\n",
        "                       param_grid=params_grid_dtr,\n",
        "                       scoring=\"neg_mean_absolute_error\",\n",
        "                       cv=splitter,\n",
        "                       verbose=10)\n",
        "\n",
        "grid_dtr.fit(X_train, y_train)"
      ],
      "metadata": {
        "id": "-2G4u8bE-WdW",
        "outputId": "7706adbd-d47a-4825-e0b1-d6bc5bbc79d1",
        "colab": {
          "base_uri": "https://localhost:8080/",
          "height": 570
        }
      },
      "execution_count": null,
      "outputs": [
        {
          "output_type": "stream",
          "name": "stdout",
          "text": [
            "Fitting 10 folds for each of 1 candidates, totalling 10 fits\n"
          ]
        },
        {
          "output_type": "stream",
          "name": "stderr",
          "text": [
            "/usr/local/lib/python3.9/dist-packages/sklearn/model_selection/_split.py:700: UserWarning: The least populated class in y has only 1 members, which is less than n_splits=10.\n",
            "  warnings.warn(\n"
          ]
        },
        {
          "output_type": "stream",
          "name": "stdout",
          "text": [
            "[CV 1/10; 1/1] START dtr__criterion=squared_error, dtr__max_depth=4, dtr__min_samples_leaf=1, dtr__splitter=best\n",
            "[CV 1/10; 1/1] END dtr__criterion=squared_error, dtr__max_depth=4, dtr__min_samples_leaf=1, dtr__splitter=best;, score=-17849.557 total time=   0.3s\n",
            "[CV 2/10; 1/1] START dtr__criterion=squared_error, dtr__max_depth=4, dtr__min_samples_leaf=1, dtr__splitter=best\n",
            "[CV 2/10; 1/1] END dtr__criterion=squared_error, dtr__max_depth=4, dtr__min_samples_leaf=1, dtr__splitter=best;, score=-17645.610 total time=   0.3s\n",
            "[CV 3/10; 1/1] START dtr__criterion=squared_error, dtr__max_depth=4, dtr__min_samples_leaf=1, dtr__splitter=best\n",
            "[CV 3/10; 1/1] END dtr__criterion=squared_error, dtr__max_depth=4, dtr__min_samples_leaf=1, dtr__splitter=best;, score=-17661.821 total time=   0.3s\n",
            "[CV 4/10; 1/1] START dtr__criterion=squared_error, dtr__max_depth=4, dtr__min_samples_leaf=1, dtr__splitter=best\n",
            "[CV 4/10; 1/1] END dtr__criterion=squared_error, dtr__max_depth=4, dtr__min_samples_leaf=1, dtr__splitter=best;, score=-17830.668 total time=   0.3s\n",
            "[CV 5/10; 1/1] START dtr__criterion=squared_error, dtr__max_depth=4, dtr__min_samples_leaf=1, dtr__splitter=best\n",
            "[CV 5/10; 1/1] END dtr__criterion=squared_error, dtr__max_depth=4, dtr__min_samples_leaf=1, dtr__splitter=best;, score=-17885.423 total time=   0.3s\n",
            "[CV 6/10; 1/1] START dtr__criterion=squared_error, dtr__max_depth=4, dtr__min_samples_leaf=1, dtr__splitter=best\n",
            "[CV 6/10; 1/1] END dtr__criterion=squared_error, dtr__max_depth=4, dtr__min_samples_leaf=1, dtr__splitter=best;, score=-17694.074 total time=   0.3s\n",
            "[CV 7/10; 1/1] START dtr__criterion=squared_error, dtr__max_depth=4, dtr__min_samples_leaf=1, dtr__splitter=best\n",
            "[CV 7/10; 1/1] END dtr__criterion=squared_error, dtr__max_depth=4, dtr__min_samples_leaf=1, dtr__splitter=best;, score=-17704.436 total time=   0.3s\n",
            "[CV 8/10; 1/1] START dtr__criterion=squared_error, dtr__max_depth=4, dtr__min_samples_leaf=1, dtr__splitter=best\n",
            "[CV 8/10; 1/1] END dtr__criterion=squared_error, dtr__max_depth=4, dtr__min_samples_leaf=1, dtr__splitter=best;, score=-17513.525 total time=   0.3s\n",
            "[CV 9/10; 1/1] START dtr__criterion=squared_error, dtr__max_depth=4, dtr__min_samples_leaf=1, dtr__splitter=best\n",
            "[CV 9/10; 1/1] END dtr__criterion=squared_error, dtr__max_depth=4, dtr__min_samples_leaf=1, dtr__splitter=best;, score=-17673.433 total time=   0.3s\n",
            "[CV 10/10; 1/1] START dtr__criterion=squared_error, dtr__max_depth=4, dtr__min_samples_leaf=1, dtr__splitter=best\n",
            "[CV 10/10; 1/1] END dtr__criterion=squared_error, dtr__max_depth=4, dtr__min_samples_leaf=1, dtr__splitter=best;, score=-17661.115 total time=   0.3s\n"
          ]
        },
        {
          "output_type": "execute_result",
          "data": {
            "text/plain": [
              "GridSearchCV(cv=StratifiedKFold(n_splits=10, random_state=42, shuffle=True),\n",
              "             estimator=Pipeline(steps=[('std_scaler', StandardScaler()),\n",
              "                                       ('dtr',\n",
              "                                        DecisionTreeRegressor(random_state=42))]),\n",
              "             param_grid={'dtr__criterion': ['squared_error'],\n",
              "                         'dtr__max_depth': range(4, 5),\n",
              "                         'dtr__min_samples_leaf': range(1, 2),\n",
              "                         'dtr__splitter': ['best']},\n",
              "             scoring='neg_mean_absolute_error', verbose=10)"
            ],
            "text/html": [
              "<style>#sk-container-id-1 {color: black;background-color: white;}#sk-container-id-1 pre{padding: 0;}#sk-container-id-1 div.sk-toggleable {background-color: white;}#sk-container-id-1 label.sk-toggleable__label {cursor: pointer;display: block;width: 100%;margin-bottom: 0;padding: 0.3em;box-sizing: border-box;text-align: center;}#sk-container-id-1 label.sk-toggleable__label-arrow:before {content: \"▸\";float: left;margin-right: 0.25em;color: #696969;}#sk-container-id-1 label.sk-toggleable__label-arrow:hover:before {color: black;}#sk-container-id-1 div.sk-estimator:hover label.sk-toggleable__label-arrow:before {color: black;}#sk-container-id-1 div.sk-toggleable__content {max-height: 0;max-width: 0;overflow: hidden;text-align: left;background-color: #f0f8ff;}#sk-container-id-1 div.sk-toggleable__content pre {margin: 0.2em;color: black;border-radius: 0.25em;background-color: #f0f8ff;}#sk-container-id-1 input.sk-toggleable__control:checked~div.sk-toggleable__content {max-height: 200px;max-width: 100%;overflow: auto;}#sk-container-id-1 input.sk-toggleable__control:checked~label.sk-toggleable__label-arrow:before {content: \"▾\";}#sk-container-id-1 div.sk-estimator input.sk-toggleable__control:checked~label.sk-toggleable__label {background-color: #d4ebff;}#sk-container-id-1 div.sk-label input.sk-toggleable__control:checked~label.sk-toggleable__label {background-color: #d4ebff;}#sk-container-id-1 input.sk-hidden--visually {border: 0;clip: rect(1px 1px 1px 1px);clip: rect(1px, 1px, 1px, 1px);height: 1px;margin: -1px;overflow: hidden;padding: 0;position: absolute;width: 1px;}#sk-container-id-1 div.sk-estimator {font-family: monospace;background-color: #f0f8ff;border: 1px dotted black;border-radius: 0.25em;box-sizing: border-box;margin-bottom: 0.5em;}#sk-container-id-1 div.sk-estimator:hover {background-color: #d4ebff;}#sk-container-id-1 div.sk-parallel-item::after {content: \"\";width: 100%;border-bottom: 1px solid gray;flex-grow: 1;}#sk-container-id-1 div.sk-label:hover label.sk-toggleable__label {background-color: #d4ebff;}#sk-container-id-1 div.sk-serial::before {content: \"\";position: absolute;border-left: 1px solid gray;box-sizing: border-box;top: 0;bottom: 0;left: 50%;z-index: 0;}#sk-container-id-1 div.sk-serial {display: flex;flex-direction: column;align-items: center;background-color: white;padding-right: 0.2em;padding-left: 0.2em;position: relative;}#sk-container-id-1 div.sk-item {position: relative;z-index: 1;}#sk-container-id-1 div.sk-parallel {display: flex;align-items: stretch;justify-content: center;background-color: white;position: relative;}#sk-container-id-1 div.sk-item::before, #sk-container-id-1 div.sk-parallel-item::before {content: \"\";position: absolute;border-left: 1px solid gray;box-sizing: border-box;top: 0;bottom: 0;left: 50%;z-index: -1;}#sk-container-id-1 div.sk-parallel-item {display: flex;flex-direction: column;z-index: 1;position: relative;background-color: white;}#sk-container-id-1 div.sk-parallel-item:first-child::after {align-self: flex-end;width: 50%;}#sk-container-id-1 div.sk-parallel-item:last-child::after {align-self: flex-start;width: 50%;}#sk-container-id-1 div.sk-parallel-item:only-child::after {width: 0;}#sk-container-id-1 div.sk-dashed-wrapped {border: 1px dashed gray;margin: 0 0.4em 0.5em 0.4em;box-sizing: border-box;padding-bottom: 0.4em;background-color: white;}#sk-container-id-1 div.sk-label label {font-family: monospace;font-weight: bold;display: inline-block;line-height: 1.2em;}#sk-container-id-1 div.sk-label-container {text-align: center;}#sk-container-id-1 div.sk-container {/* jupyter's `normalize.less` sets `[hidden] { display: none; }` but bootstrap.min.css set `[hidden] { display: none !important; }` so we also need the `!important` here to be able to override the default hidden behavior on the sphinx rendered scikit-learn.org. See: https://github.com/scikit-learn/scikit-learn/issues/21755 */display: inline-block !important;position: relative;}#sk-container-id-1 div.sk-text-repr-fallback {display: none;}</style><div id=\"sk-container-id-1\" class=\"sk-top-container\"><div class=\"sk-text-repr-fallback\"><pre>GridSearchCV(cv=StratifiedKFold(n_splits=10, random_state=42, shuffle=True),\n",
              "             estimator=Pipeline(steps=[(&#x27;std_scaler&#x27;, StandardScaler()),\n",
              "                                       (&#x27;dtr&#x27;,\n",
              "                                        DecisionTreeRegressor(random_state=42))]),\n",
              "             param_grid={&#x27;dtr__criterion&#x27;: [&#x27;squared_error&#x27;],\n",
              "                         &#x27;dtr__max_depth&#x27;: range(4, 5),\n",
              "                         &#x27;dtr__min_samples_leaf&#x27;: range(1, 2),\n",
              "                         &#x27;dtr__splitter&#x27;: [&#x27;best&#x27;]},\n",
              "             scoring=&#x27;neg_mean_absolute_error&#x27;, verbose=10)</pre><b>In a Jupyter environment, please rerun this cell to show the HTML representation or trust the notebook. <br />On GitHub, the HTML representation is unable to render, please try loading this page with nbviewer.org.</b></div><div class=\"sk-container\" hidden><div class=\"sk-item sk-dashed-wrapped\"><div class=\"sk-label-container\"><div class=\"sk-label sk-toggleable\"><input class=\"sk-toggleable__control sk-hidden--visually\" id=\"sk-estimator-id-1\" type=\"checkbox\" ><label for=\"sk-estimator-id-1\" class=\"sk-toggleable__label sk-toggleable__label-arrow\">GridSearchCV</label><div class=\"sk-toggleable__content\"><pre>GridSearchCV(cv=StratifiedKFold(n_splits=10, random_state=42, shuffle=True),\n",
              "             estimator=Pipeline(steps=[(&#x27;std_scaler&#x27;, StandardScaler()),\n",
              "                                       (&#x27;dtr&#x27;,\n",
              "                                        DecisionTreeRegressor(random_state=42))]),\n",
              "             param_grid={&#x27;dtr__criterion&#x27;: [&#x27;squared_error&#x27;],\n",
              "                         &#x27;dtr__max_depth&#x27;: range(4, 5),\n",
              "                         &#x27;dtr__min_samples_leaf&#x27;: range(1, 2),\n",
              "                         &#x27;dtr__splitter&#x27;: [&#x27;best&#x27;]},\n",
              "             scoring=&#x27;neg_mean_absolute_error&#x27;, verbose=10)</pre></div></div></div><div class=\"sk-parallel\"><div class=\"sk-parallel-item\"><div class=\"sk-item\"><div class=\"sk-label-container\"><div class=\"sk-label sk-toggleable\"><input class=\"sk-toggleable__control sk-hidden--visually\" id=\"sk-estimator-id-2\" type=\"checkbox\" ><label for=\"sk-estimator-id-2\" class=\"sk-toggleable__label sk-toggleable__label-arrow\">estimator: Pipeline</label><div class=\"sk-toggleable__content\"><pre>Pipeline(steps=[(&#x27;std_scaler&#x27;, StandardScaler()),\n",
              "                (&#x27;dtr&#x27;, DecisionTreeRegressor(random_state=42))])</pre></div></div></div><div class=\"sk-serial\"><div class=\"sk-item\"><div class=\"sk-serial\"><div class=\"sk-item\"><div class=\"sk-estimator sk-toggleable\"><input class=\"sk-toggleable__control sk-hidden--visually\" id=\"sk-estimator-id-3\" type=\"checkbox\" ><label for=\"sk-estimator-id-3\" class=\"sk-toggleable__label sk-toggleable__label-arrow\">StandardScaler</label><div class=\"sk-toggleable__content\"><pre>StandardScaler()</pre></div></div></div><div class=\"sk-item\"><div class=\"sk-estimator sk-toggleable\"><input class=\"sk-toggleable__control sk-hidden--visually\" id=\"sk-estimator-id-4\" type=\"checkbox\" ><label for=\"sk-estimator-id-4\" class=\"sk-toggleable__label sk-toggleable__label-arrow\">DecisionTreeRegressor</label><div class=\"sk-toggleable__content\"><pre>DecisionTreeRegressor(random_state=42)</pre></div></div></div></div></div></div></div></div></div></div></div></div>"
            ]
          },
          "metadata": {},
          "execution_count": 29
        }
      ]
    },
    {
      "cell_type": "code",
      "source": [
        "grid_dtr.best_params_"
      ],
      "metadata": {
        "id": "Pe-NG6WA-uKr",
        "outputId": "604c9aaa-44fd-4a12-e09b-234c337df8d0",
        "colab": {
          "base_uri": "https://localhost:8080/"
        }
      },
      "execution_count": null,
      "outputs": [
        {
          "output_type": "execute_result",
          "data": {
            "text/plain": [
              "{'dtr__criterion': 'squared_error',\n",
              " 'dtr__max_depth': 4,\n",
              " 'dtr__min_samples_leaf': 1,\n",
              " 'dtr__splitter': 'best'}"
            ]
          },
          "metadata": {},
          "execution_count": 30
        }
      ]
    },
    {
      "cell_type": "code",
      "source": [
        "y_pred = grid_dtr.predict(X_test)"
      ],
      "metadata": {
        "id": "ax0kjH_z-wFT"
      },
      "execution_count": null,
      "outputs": []
    },
    {
      "cell_type": "code",
      "source": [
        "from sklearn.metrics import r2_score, mean_absolute_error, mean_squared_error"
      ],
      "metadata": {
        "id": "muA65pTD-v9p"
      },
      "execution_count": null,
      "outputs": []
    },
    {
      "cell_type": "code",
      "source": [
        "print(\"\\nMétricas de teste:\\n\")\n",
        "print(f\"R^2: {r2_score(y_test, y_pred):.2f}\")\n",
        "print(f\"MAE: {mean_absolute_error(y_test, y_pred):.2f}\")\n",
        "print(f\"RMSE: {np.sqrt(mean_squared_error(y_test, y_pred)):.2f}\") "
      ],
      "metadata": {
        "id": "pxj8IwJg-vmn",
        "outputId": "bde658a1-10d6-4d31-8740-afec5114db1f",
        "colab": {
          "base_uri": "https://localhost:8080/"
        }
      },
      "execution_count": null,
      "outputs": [
        {
          "output_type": "stream",
          "name": "stdout",
          "text": [
            "\n",
            "Métricas de teste:\n",
            "\n",
            "R^2: 0.72\n",
            "MAE: 17857.56\n",
            "RMSE: 27101.61\n"
          ]
        }
      ]
    },
    {
      "cell_type": "code",
      "source": [
        "modelo = grid_dtr.best_estimator_[\"dtr\"]\n",
        "\n",
        "plt.figure(figsize = (50, 50), dpi = 300) # criei a figura\n",
        "plot_tree(modelo, feature_names=X_train.columns, filled = True) # plotei\n",
        "plt.savefig(\"arvore_regressao.png\") # salvei\n",
        "plt.close() # fechei"
      ],
      "metadata": {
        "id": "xCJSMEPH-0h5"
      },
      "execution_count": null,
      "outputs": []
    },
    {
      "cell_type": "code",
      "source": [
        "plt.figure(figsize = (50, 50), dpi = 300) # criei a figura\n",
        "plot_tree(modelo, feature_names=X_train.columns,  max_depth=3, filled = True) # plotei,\n",
        "plt.savefig(\"arvore_exercicio_3_max_depth_3.png\") # salvei\n",
        "plt.close() # fechei"
      ],
      "metadata": {
        "id": "fMXmCIM8-0fU"
      },
      "execution_count": null,
      "outputs": []
    },
    {
      "cell_type": "code",
      "source": [],
      "metadata": {
        "id": "Z85tmtlr-0cj"
      },
      "execution_count": null,
      "outputs": []
    },
    {
      "cell_type": "code",
      "source": [],
      "metadata": {
        "id": "FH4tPTom-0Z5"
      },
      "execution_count": null,
      "outputs": []
    },
    {
      "cell_type": "code",
      "source": [],
      "metadata": {
        "id": "tRRZMYrY-0XC"
      },
      "execution_count": null,
      "outputs": []
    },
    {
      "cell_type": "code",
      "source": [],
      "metadata": {
        "id": "1PaRd7Iy-0QW"
      },
      "execution_count": null,
      "outputs": []
    },
    {
      "cell_type": "code",
      "source": [
        "X_train, X_test, y_train, y_test = train_test_split(X, y, \n",
        "                                                    test_size=0.2, random_state=42)\n",
        "lista_etapas = [(\"std_scaler\", StandardScaler()), \n",
        "                (\"rf\", RandomForestRegressor())]\n",
        "\n",
        "pipe_rf = Pipeline(lista_etapas).fit(X_train, y_train)"
      ],
      "metadata": {
        "id": "w5ba_khJ8EUu"
      },
      "execution_count": null,
      "outputs": []
    },
    {
      "cell_type": "code",
      "source": [],
      "metadata": {
        "id": "FECuER-X8_0E"
      },
      "execution_count": null,
      "outputs": []
    },
    {
      "cell_type": "code",
      "source": [
        "print(\"\\nMétricas de avaliação de treino:\")\n",
        "\n",
        "y_pred_train = pipe_rf.predict(X_train)\n",
        "\n",
        "ConfusionMatrixDisplay.from_predictions(y_train, y_pred_train)\n",
        "plt.show()\n",
        "\n",
        "print(classification_report(y_train, y_pred_train))\n",
        "\n",
        "\n",
        "# ============================================\n",
        "\n",
        "print(\"\\nMétricas de avaliação de teste:\")\n",
        "\n",
        "y_pred_test = pipe_rf.predict(X_test)\n",
        "\n",
        "\n",
        "ConfusionMatrixDisplay.from_predictions(y_test, y_pred_test)\n",
        "plt.show()\n",
        "\n",
        "print(classification_report(y_test, y_pred_test))"
      ],
      "metadata": {
        "id": "reX6Lx2V8WX6"
      },
      "execution_count": null,
      "outputs": []
    },
    {
      "cell_type": "code",
      "source": [],
      "metadata": {
        "id": "OEr-XrSh8WSf"
      },
      "execution_count": null,
      "outputs": []
    },
    {
      "cell_type": "code",
      "source": [
        "\n",
        "#standard scaler\n",
        "scaler = StandardScaler()\n",
        "x_scaled=scaler.fit_transform(X)\n",
        "\n",
        "## split the data\n",
        "X_train, X_test, y_train, y_test = train_test_split(x_scaled ,y, test_size=0.2, random_state=0)\n",
        "\n",
        "## create function to fit models\n",
        "model_preds = []\n",
        "\n",
        "def fit_model(model, model_name):\n",
        "    model.fit(X_train, y_train)\n",
        "    y_pred = model.predict(X_test)\n",
        "    r2 = round(r2_score(y_test, y_pred),4)\n",
        "    adj_r2 = round(1 - (1-r2)*(len(y)-1)/(len(y)-X.shape[1]-1),4)\n",
        "    mse = round(mean_squared_error(y_test, y_pred),4)\n",
        "    mae = round(mean_absolute_error(y_test, y_pred),4)\n",
        "    rmse = round(np.sqrt(mean_squared_error(y_test, y_pred)),4)\n",
        "    model_preds.append([model_name, r2, adj_r2, mse, mae, rmse])\n",
        "    print (\"The R-Squared Value (r2) is: \", r2)\n",
        "    print (\"Adjusted R-Squared Value (adj_r2) is: \", adj_r2)\n",
        "    print(\"The Mean Squared error (MSE) is: \", mse)\n",
        "    print(\"Root Mean Squared Error (RMSE)  is: \", rmse)\n",
        "    print(\"Mean Absolute Error (MAE) is: \", mae)\n",
        "\n",
        "## model evaluation function\n",
        "def model_eval():\n",
        "    preds = pd.DataFrame(model_preds)\n",
        "    preds.columns = [\"Mod_Name\", \"R2 Value\", \"adj_R2\", \"MSE\", \"RMSE\", \"MAE\"]\n",
        "    return preds.sort_values(by=\"R2 Value\", ascending=False)"
      ],
      "metadata": {
        "id": "6Ddeyu9t7P2k"
      },
      "execution_count": null,
      "outputs": []
    },
    {
      "cell_type": "markdown",
      "source": [],
      "metadata": {
        "id": "_O3LK22e7Ss5"
      }
    },
    {
      "cell_type": "markdown",
      "source": [
        "## 6.Conclusões"
      ],
      "metadata": {
        "id": "R3aBkny8LAqM"
      }
    },
    {
      "cell_type": "markdown",
      "source": [
        "## 7.Referências"
      ],
      "metadata": {
        "id": "rE-Zifi0LEmH"
      }
    },
    {
      "cell_type": "markdown",
      "source": [
        "1. Categorizar ```fuel``` e ```gear``` com a utilização do ```get_dummies```. Estes dados são muito úteis e possuem no máximo 3 valores distintos;\n",
        "1. Dado alto quantitativo do conjunto (290 mil linhas) vamos escolher uma única marca para nossa análise."
      ],
      "metadata": {
        "id": "KYKEfeVtPZnJ"
      }
    },
    {
      "cell_type": "code",
      "execution_count": null,
      "metadata": {
        "id": "yHZJSa2ginXW"
      },
      "outputs": [],
      "source": [
        "url = 'https://raw.githubusercontent.com/VitorFRodrigues/Polo_Tech_Americanas/main/Polo_Tech/Modulo_05/Projeto/dataset/fipe_2022.csv'"
      ]
    },
    {
      "cell_type": "code",
      "source": [
        "import pandas as pd\n",
        "import seaborn as sns\n",
        "import matplotlib.pyplot as plt\n",
        "\n",
        "# importe as principais bibliotecas\n",
        "import pandas as pd\n",
        "import numpy as np\n",
        "import matplotlib.pyplot as plt\n",
        "import seaborn as sns\n",
        "from sklearn import decomposition, datasets\n",
        "from sklearn.pipeline import Pipeline\n",
        "from sklearn.model_selection import GridSearchCV, StratifiedKFold\n",
        "from sklearn.model_selection import train_test_split\n",
        "from sklearn.tree import plot_tree\n",
        "from sklearn.tree import DecisionTreeClassifier\n",
        "# from sklearn.metrics import classification_report, confusion_matrix, ConfusionMatrixDis"
      ],
      "metadata": {
        "id": "3ui5LbOfjTgo"
      },
      "execution_count": null,
      "outputs": []
    },
    {
      "cell_type": "code",
      "source": [
        "dados = pd.read_csv(url)\n",
        "dados"
      ],
      "metadata": {
        "colab": {
          "base_uri": "https://localhost:8080/",
          "height": 423
        },
        "id": "NADoHvqIjLPS",
        "outputId": "95a2f50e-561c-46da-dbb3-46d865b6d54c"
      },
      "execution_count": null,
      "outputs": [
        {
          "output_type": "execute_result",
          "data": {
            "text/plain": [
              "        year_of_reference month_of_reference fipe_code authentication  brand  \\\n",
              "0                    2022            January  038001-6     vwmrywl5qs  Acura   \n",
              "1                    2022            January  038001-6     t9mt723qhz  Acura   \n",
              "2                    2022            January  038001-6     tr5wv4z21g  Acura   \n",
              "3                    2022            January  038001-6     s2xxsjz3mt  Acura   \n",
              "4                    2022            January  038001-6     rtm9gj7zk8  Acura   \n",
              "...                   ...                ...       ...            ...    ...   \n",
              "290270               2022           December  061001-1   lzrp3rpklh8q   Walk   \n",
              "290271               2022           December  061001-1   lrfw427w9v5h   Walk   \n",
              "290272               2022           December  061001-1   lh98rfxnhy18   Walk   \n",
              "290273               2022           December  061001-1   k9dtwsps5sy1   Walk   \n",
              "290274               2022           December  061001-1   j7gt9020nqvt   Walk   \n",
              "\n",
              "                               model      fuel    gear  engine_size  \\\n",
              "0                            NSX 3.0  Gasoline  manual          3.0   \n",
              "1                            NSX 3.0  Gasoline  manual          3.0   \n",
              "2                            NSX 3.0  Gasoline  manual          3.0   \n",
              "3                            NSX 3.0  Gasoline  manual          3.0   \n",
              "4                            NSX 3.0  Gasoline  manual          3.0   \n",
              "...                              ...       ...     ...          ...   \n",
              "290270  Buggy Walk Sport 1.6 8V 58cv  Gasoline  manual          1.6   \n",
              "290271  Buggy Walk Sport 1.6 8V 58cv  Gasoline  manual          1.6   \n",
              "290272  Buggy Walk Sport 1.6 8V 58cv  Gasoline  manual          1.6   \n",
              "290273  Buggy Walk Sport 1.6 8V 58cv  Gasoline  manual          1.6   \n",
              "290274  Buggy Walk Sport 1.6 8V 58cv  Gasoline  manual          1.6   \n",
              "\n",
              "        year_model  avg_price_brl  age_years  \n",
              "0             1995        43779.0         28  \n",
              "1             1994        42244.0         29  \n",
              "2             1993        40841.0         30  \n",
              "3             1992        39028.0         31  \n",
              "4             1991        35678.0         32  \n",
              "...            ...            ...        ...  \n",
              "290270        2009        22894.0         14  \n",
              "290271        2008        22270.0         15  \n",
              "290272        2007        21663.0         16  \n",
              "290273        2006        21073.0         17  \n",
              "290274        2005        18264.0         18  \n",
              "\n",
              "[290275 rows x 12 columns]"
            ],
            "text/html": [
              "\n",
              "  <div id=\"df-ec6aa4ab-4401-4329-b105-1465655d949c\">\n",
              "    <div class=\"colab-df-container\">\n",
              "      <div>\n",
              "<style scoped>\n",
              "    .dataframe tbody tr th:only-of-type {\n",
              "        vertical-align: middle;\n",
              "    }\n",
              "\n",
              "    .dataframe tbody tr th {\n",
              "        vertical-align: top;\n",
              "    }\n",
              "\n",
              "    .dataframe thead th {\n",
              "        text-align: right;\n",
              "    }\n",
              "</style>\n",
              "<table border=\"1\" class=\"dataframe\">\n",
              "  <thead>\n",
              "    <tr style=\"text-align: right;\">\n",
              "      <th></th>\n",
              "      <th>year_of_reference</th>\n",
              "      <th>month_of_reference</th>\n",
              "      <th>fipe_code</th>\n",
              "      <th>authentication</th>\n",
              "      <th>brand</th>\n",
              "      <th>model</th>\n",
              "      <th>fuel</th>\n",
              "      <th>gear</th>\n",
              "      <th>engine_size</th>\n",
              "      <th>year_model</th>\n",
              "      <th>avg_price_brl</th>\n",
              "      <th>age_years</th>\n",
              "    </tr>\n",
              "  </thead>\n",
              "  <tbody>\n",
              "    <tr>\n",
              "      <th>0</th>\n",
              "      <td>2022</td>\n",
              "      <td>January</td>\n",
              "      <td>038001-6</td>\n",
              "      <td>vwmrywl5qs</td>\n",
              "      <td>Acura</td>\n",
              "      <td>NSX 3.0</td>\n",
              "      <td>Gasoline</td>\n",
              "      <td>manual</td>\n",
              "      <td>3.0</td>\n",
              "      <td>1995</td>\n",
              "      <td>43779.0</td>\n",
              "      <td>28</td>\n",
              "    </tr>\n",
              "    <tr>\n",
              "      <th>1</th>\n",
              "      <td>2022</td>\n",
              "      <td>January</td>\n",
              "      <td>038001-6</td>\n",
              "      <td>t9mt723qhz</td>\n",
              "      <td>Acura</td>\n",
              "      <td>NSX 3.0</td>\n",
              "      <td>Gasoline</td>\n",
              "      <td>manual</td>\n",
              "      <td>3.0</td>\n",
              "      <td>1994</td>\n",
              "      <td>42244.0</td>\n",
              "      <td>29</td>\n",
              "    </tr>\n",
              "    <tr>\n",
              "      <th>2</th>\n",
              "      <td>2022</td>\n",
              "      <td>January</td>\n",
              "      <td>038001-6</td>\n",
              "      <td>tr5wv4z21g</td>\n",
              "      <td>Acura</td>\n",
              "      <td>NSX 3.0</td>\n",
              "      <td>Gasoline</td>\n",
              "      <td>manual</td>\n",
              "      <td>3.0</td>\n",
              "      <td>1993</td>\n",
              "      <td>40841.0</td>\n",
              "      <td>30</td>\n",
              "    </tr>\n",
              "    <tr>\n",
              "      <th>3</th>\n",
              "      <td>2022</td>\n",
              "      <td>January</td>\n",
              "      <td>038001-6</td>\n",
              "      <td>s2xxsjz3mt</td>\n",
              "      <td>Acura</td>\n",
              "      <td>NSX 3.0</td>\n",
              "      <td>Gasoline</td>\n",
              "      <td>manual</td>\n",
              "      <td>3.0</td>\n",
              "      <td>1992</td>\n",
              "      <td>39028.0</td>\n",
              "      <td>31</td>\n",
              "    </tr>\n",
              "    <tr>\n",
              "      <th>4</th>\n",
              "      <td>2022</td>\n",
              "      <td>January</td>\n",
              "      <td>038001-6</td>\n",
              "      <td>rtm9gj7zk8</td>\n",
              "      <td>Acura</td>\n",
              "      <td>NSX 3.0</td>\n",
              "      <td>Gasoline</td>\n",
              "      <td>manual</td>\n",
              "      <td>3.0</td>\n",
              "      <td>1991</td>\n",
              "      <td>35678.0</td>\n",
              "      <td>32</td>\n",
              "    </tr>\n",
              "    <tr>\n",
              "      <th>...</th>\n",
              "      <td>...</td>\n",
              "      <td>...</td>\n",
              "      <td>...</td>\n",
              "      <td>...</td>\n",
              "      <td>...</td>\n",
              "      <td>...</td>\n",
              "      <td>...</td>\n",
              "      <td>...</td>\n",
              "      <td>...</td>\n",
              "      <td>...</td>\n",
              "      <td>...</td>\n",
              "      <td>...</td>\n",
              "    </tr>\n",
              "    <tr>\n",
              "      <th>290270</th>\n",
              "      <td>2022</td>\n",
              "      <td>December</td>\n",
              "      <td>061001-1</td>\n",
              "      <td>lzrp3rpklh8q</td>\n",
              "      <td>Walk</td>\n",
              "      <td>Buggy Walk Sport 1.6 8V 58cv</td>\n",
              "      <td>Gasoline</td>\n",
              "      <td>manual</td>\n",
              "      <td>1.6</td>\n",
              "      <td>2009</td>\n",
              "      <td>22894.0</td>\n",
              "      <td>14</td>\n",
              "    </tr>\n",
              "    <tr>\n",
              "      <th>290271</th>\n",
              "      <td>2022</td>\n",
              "      <td>December</td>\n",
              "      <td>061001-1</td>\n",
              "      <td>lrfw427w9v5h</td>\n",
              "      <td>Walk</td>\n",
              "      <td>Buggy Walk Sport 1.6 8V 58cv</td>\n",
              "      <td>Gasoline</td>\n",
              "      <td>manual</td>\n",
              "      <td>1.6</td>\n",
              "      <td>2008</td>\n",
              "      <td>22270.0</td>\n",
              "      <td>15</td>\n",
              "    </tr>\n",
              "    <tr>\n",
              "      <th>290272</th>\n",
              "      <td>2022</td>\n",
              "      <td>December</td>\n",
              "      <td>061001-1</td>\n",
              "      <td>lh98rfxnhy18</td>\n",
              "      <td>Walk</td>\n",
              "      <td>Buggy Walk Sport 1.6 8V 58cv</td>\n",
              "      <td>Gasoline</td>\n",
              "      <td>manual</td>\n",
              "      <td>1.6</td>\n",
              "      <td>2007</td>\n",
              "      <td>21663.0</td>\n",
              "      <td>16</td>\n",
              "    </tr>\n",
              "    <tr>\n",
              "      <th>290273</th>\n",
              "      <td>2022</td>\n",
              "      <td>December</td>\n",
              "      <td>061001-1</td>\n",
              "      <td>k9dtwsps5sy1</td>\n",
              "      <td>Walk</td>\n",
              "      <td>Buggy Walk Sport 1.6 8V 58cv</td>\n",
              "      <td>Gasoline</td>\n",
              "      <td>manual</td>\n",
              "      <td>1.6</td>\n",
              "      <td>2006</td>\n",
              "      <td>21073.0</td>\n",
              "      <td>17</td>\n",
              "    </tr>\n",
              "    <tr>\n",
              "      <th>290274</th>\n",
              "      <td>2022</td>\n",
              "      <td>December</td>\n",
              "      <td>061001-1</td>\n",
              "      <td>j7gt9020nqvt</td>\n",
              "      <td>Walk</td>\n",
              "      <td>Buggy Walk Sport 1.6 8V 58cv</td>\n",
              "      <td>Gasoline</td>\n",
              "      <td>manual</td>\n",
              "      <td>1.6</td>\n",
              "      <td>2005</td>\n",
              "      <td>18264.0</td>\n",
              "      <td>18</td>\n",
              "    </tr>\n",
              "  </tbody>\n",
              "</table>\n",
              "<p>290275 rows × 12 columns</p>\n",
              "</div>\n",
              "      <button class=\"colab-df-convert\" onclick=\"convertToInteractive('df-ec6aa4ab-4401-4329-b105-1465655d949c')\"\n",
              "              title=\"Convert this dataframe to an interactive table.\"\n",
              "              style=\"display:none;\">\n",
              "        \n",
              "  <svg xmlns=\"http://www.w3.org/2000/svg\" height=\"24px\"viewBox=\"0 0 24 24\"\n",
              "       width=\"24px\">\n",
              "    <path d=\"M0 0h24v24H0V0z\" fill=\"none\"/>\n",
              "    <path d=\"M18.56 5.44l.94 2.06.94-2.06 2.06-.94-2.06-.94-.94-2.06-.94 2.06-2.06.94zm-11 1L8.5 8.5l.94-2.06 2.06-.94-2.06-.94L8.5 2.5l-.94 2.06-2.06.94zm10 10l.94 2.06.94-2.06 2.06-.94-2.06-.94-.94-2.06-.94 2.06-2.06.94z\"/><path d=\"M17.41 7.96l-1.37-1.37c-.4-.4-.92-.59-1.43-.59-.52 0-1.04.2-1.43.59L10.3 9.45l-7.72 7.72c-.78.78-.78 2.05 0 2.83L4 21.41c.39.39.9.59 1.41.59.51 0 1.02-.2 1.41-.59l7.78-7.78 2.81-2.81c.8-.78.8-2.07 0-2.86zM5.41 20L4 18.59l7.72-7.72 1.47 1.35L5.41 20z\"/>\n",
              "  </svg>\n",
              "      </button>\n",
              "      \n",
              "  <style>\n",
              "    .colab-df-container {\n",
              "      display:flex;\n",
              "      flex-wrap:wrap;\n",
              "      gap: 12px;\n",
              "    }\n",
              "\n",
              "    .colab-df-convert {\n",
              "      background-color: #E8F0FE;\n",
              "      border: none;\n",
              "      border-radius: 50%;\n",
              "      cursor: pointer;\n",
              "      display: none;\n",
              "      fill: #1967D2;\n",
              "      height: 32px;\n",
              "      padding: 0 0 0 0;\n",
              "      width: 32px;\n",
              "    }\n",
              "\n",
              "    .colab-df-convert:hover {\n",
              "      background-color: #E2EBFA;\n",
              "      box-shadow: 0px 1px 2px rgba(60, 64, 67, 0.3), 0px 1px 3px 1px rgba(60, 64, 67, 0.15);\n",
              "      fill: #174EA6;\n",
              "    }\n",
              "\n",
              "    [theme=dark] .colab-df-convert {\n",
              "      background-color: #3B4455;\n",
              "      fill: #D2E3FC;\n",
              "    }\n",
              "\n",
              "    [theme=dark] .colab-df-convert:hover {\n",
              "      background-color: #434B5C;\n",
              "      box-shadow: 0px 1px 3px 1px rgba(0, 0, 0, 0.15);\n",
              "      filter: drop-shadow(0px 1px 2px rgba(0, 0, 0, 0.3));\n",
              "      fill: #FFFFFF;\n",
              "    }\n",
              "  </style>\n",
              "\n",
              "      <script>\n",
              "        const buttonEl =\n",
              "          document.querySelector('#df-ec6aa4ab-4401-4329-b105-1465655d949c button.colab-df-convert');\n",
              "        buttonEl.style.display =\n",
              "          google.colab.kernel.accessAllowed ? 'block' : 'none';\n",
              "\n",
              "        async function convertToInteractive(key) {\n",
              "          const element = document.querySelector('#df-ec6aa4ab-4401-4329-b105-1465655d949c');\n",
              "          const dataTable =\n",
              "            await google.colab.kernel.invokeFunction('convertToInteractive',\n",
              "                                                     [key], {});\n",
              "          if (!dataTable) return;\n",
              "\n",
              "          const docLinkHtml = 'Like what you see? Visit the ' +\n",
              "            '<a target=\"_blank\" href=https://colab.research.google.com/notebooks/data_table.ipynb>data table notebook</a>'\n",
              "            + ' to learn more about interactive tables.';\n",
              "          element.innerHTML = '';\n",
              "          dataTable['output_type'] = 'display_data';\n",
              "          await google.colab.output.renderOutput(dataTable, element);\n",
              "          const docLink = document.createElement('div');\n",
              "          docLink.innerHTML = docLinkHtml;\n",
              "          element.appendChild(docLink);\n",
              "        }\n",
              "      </script>\n",
              "    </div>\n",
              "  </div>\n",
              "  "
            ]
          },
          "metadata": {},
          "execution_count": 3
        }
      ]
    },
    {
      "cell_type": "code",
      "source": [
        "dados.isna().sum()"
      ],
      "metadata": {
        "colab": {
          "base_uri": "https://localhost:8080/"
        },
        "id": "8fCgUTIvkNNS",
        "outputId": "dc804874-4d2f-478d-9c0e-872da5934155"
      },
      "execution_count": null,
      "outputs": [
        {
          "output_type": "execute_result",
          "data": {
            "text/plain": [
              "year_of_reference     0\n",
              "month_of_reference    0\n",
              "fipe_code             0\n",
              "authentication        0\n",
              "brand                 0\n",
              "model                 0\n",
              "fuel                  0\n",
              "gear                  0\n",
              "engine_size           0\n",
              "year_model            0\n",
              "avg_price_brl         0\n",
              "age_years             0\n",
              "dtype: int64"
            ]
          },
          "metadata": {},
          "execution_count": 4
        }
      ]
    },
    {
      "cell_type": "code",
      "source": [
        "dados.info()"
      ],
      "metadata": {
        "colab": {
          "base_uri": "https://localhost:8080/"
        },
        "id": "i6QHajWIlKBS",
        "outputId": "65b17a4e-b003-405a-e871-bf240fa0a8ce"
      },
      "execution_count": null,
      "outputs": [
        {
          "output_type": "stream",
          "name": "stdout",
          "text": [
            "<class 'pandas.core.frame.DataFrame'>\n",
            "RangeIndex: 290275 entries, 0 to 290274\n",
            "Data columns (total 12 columns):\n",
            " #   Column              Non-Null Count   Dtype  \n",
            "---  ------              --------------   -----  \n",
            " 0   year_of_reference   290275 non-null  int64  \n",
            " 1   month_of_reference  290275 non-null  object \n",
            " 2   fipe_code           290275 non-null  object \n",
            " 3   authentication      290275 non-null  object \n",
            " 4   brand               290275 non-null  object \n",
            " 5   model               290275 non-null  object \n",
            " 6   fuel                290275 non-null  object \n",
            " 7   gear                290275 non-null  object \n",
            " 8   engine_size         290275 non-null  float64\n",
            " 9   year_model          290275 non-null  int64  \n",
            " 10  avg_price_brl       290275 non-null  float64\n",
            " 11  age_years           290275 non-null  int64  \n",
            "dtypes: float64(2), int64(3), object(7)\n",
            "memory usage: 26.6+ MB\n"
          ]
        }
      ]
    },
    {
      "cell_type": "code",
      "source": [
        "for i in dados.columns.tolist():\n",
        "  print(f'{i}: {dados[i].unique()}')\n",
        "  print('')"
      ],
      "metadata": {
        "colab": {
          "base_uri": "https://localhost:8080/"
        },
        "id": "btfCD6Xdkvkc",
        "outputId": "6325128e-1b59-4804-ea5b-a333b3af4ee6"
      },
      "execution_count": null,
      "outputs": [
        {
          "output_type": "stream",
          "name": "stdout",
          "text": [
            "year_of_reference: [2022]\n",
            "\n",
            "month_of_reference: ['January' 'February' 'March' 'April' 'May' 'June' 'July' 'August'\n",
            " 'September' 'October' 'November' 'December']\n",
            "\n",
            "fipe_code: ['038001-6' '038002-4' '038003-2' ... '005534-4' '005535-2' '005536-0']\n",
            "\n",
            "authentication: ['vwmrywl5qs' 't9mt723qhz' 'tr5wv4z21g' ... 'lh98rfxnhy18' 'k9dtwsps5sy1'\n",
            " 'j7gt9020nqvt']\n",
            "\n",
            "brand: ['Acura' 'Agrale' 'Alfa Romeo' 'AM Gen' 'Asia Motors' 'ASTON MARTIN'\n",
            " 'Audi' 'Baby' 'BMW' 'BRM' 'CAB Motors' 'Cadillac' 'CBT Jipe' 'CHANA'\n",
            " 'CHANGAN' 'Caoa Chery' 'GM - Chevrolet' 'Chrysler' 'Citroën'\n",
            " 'Cross Lander' 'Daewoo' 'Daihatsu' 'Dodge' 'EFFA' 'Engesa' 'Envemo'\n",
            " 'Ferrari' 'Fiat' 'Fibravan' 'Ford' 'FOTON' 'Fyber' 'GEELY' 'GREAT WALL'\n",
            " 'HAFEI' 'Honda' 'Hyundai' 'Isuzu' 'IVECO' 'JAC' 'Jaguar' 'Jeep' 'JINBEI'\n",
            " 'JPX' 'Kia Motors' 'Lada' 'Land Rover' 'Lexus' 'LIFAN' 'LOBINI' 'Lotus'\n",
            " 'Mahindra' 'Maserati' 'Matra' 'Mazda' 'Mclaren' 'Mercedes-Benz' 'Mercury'\n",
            " 'MG' 'MINI' 'Mitsubishi' 'Nissan' 'Peugeot' 'Plymouth' 'Pontiac'\n",
            " 'Porsche' 'RAM' 'RELY' 'Renault' 'Rolls-Royce' 'Rover' 'Saab' 'Saturn'\n",
            " 'Seat' 'SHINERAY' 'smart' 'SSANGYONG' 'Subaru' 'Suzuki' 'TAC' 'Toyota'\n",
            " 'Troller' 'VW - VolksWagen' 'Volvo' 'Wake' 'Walk']\n",
            "\n",
            "model: ['NSX 3.0' 'Legend 3.2/3.5' 'Integra GS 1.8' ...\n",
            " 'C-200 AMG Line EQ Boost 1.5 TB (Hib.)'\n",
            " 'CLASSIC LARAMIE 5.7 CD V8 4X4 Aut.'\n",
            " 'CLASSIC LARAMIE NIGHT ED. 5.7 4X4 Aut.']\n",
            "\n",
            "fuel: ['Gasoline' 'Diesel' 'Alcohol']\n",
            "\n",
            "gear: ['manual' 'automatic']\n",
            "\n",
            "engine_size: [3.  3.2 1.8 2.8 2.  1.7 2.5 6.5 2.7 4.  2.2 4.7 6.  2.6 4.2 2.4 1.6 3.6\n",
            " 5.2 5.  1.4 6.3 2.9 1.9 3.8 3.5 5.4 4.4 5.6 4.8 1.5 6.6 2.3 4.9 4.6 1.\n",
            " 1.3 1.1 4.1 4.3 3.9 2.1 5.7 3.1 6.2 1.2 3.3 6.1 5.9 6.7 3.4 5.5 4.5 0.7\n",
            " 5.8 3.7]\n",
            "\n",
            "year_model: [1995 1994 1993 1992 1991 1998 1997 1996 2007 2006 2005 2004 2011 2010\n",
            " 2009 2008 2015 2014 2013 2012 2023 2022 2021 2020 2019 2018 2017 2016\n",
            " 1999 2002 2001 2000 2003 1990 1989 1988 1987 1986 1985]\n",
            "\n",
            "avg_price_brl: [ 43779.  42244.  40841. ... 237721.  71892.  50257.]\n",
            "\n",
            "age_years: [28 29 30 31 32 25 26 27 16 17 18 19 12 13 14 15  8  9 10 11  0  1  2  3\n",
            "  4  5  6  7 24 21 22 23 20 33 34 35 36 37 38]\n",
            "\n"
          ]
        }
      ]
    },
    {
      "cell_type": "code",
      "source": [
        "dados.brand.value_counts().head(50)"
      ],
      "metadata": {
        "colab": {
          "base_uri": "https://localhost:8080/"
        },
        "id": "OYEzXr9FoNqW",
        "outputId": "bb1d74dc-d138-42ea-fca3-397b8c49de94"
      },
      "execution_count": null,
      "outputs": [
        {
          "output_type": "execute_result",
          "data": {
            "text/plain": [
              "GM - Chevrolet     28179\n",
              "VW - VolksWagen    28142\n",
              "Fiat               26563\n",
              "Ford               24150\n",
              "Mercedes-Benz      17470\n",
              "Renault            15194\n",
              "Audi               12168\n",
              "Peugeot            11132\n",
              "Toyota             10309\n",
              "Mitsubishi         10182\n",
              "BMW                10060\n",
              "Citroën             8780\n",
              "Hyundai             7485\n",
              "Land Rover          6973\n",
              "Nissan              6885\n",
              "Porsche             6800\n",
              "Volvo               6069\n",
              "Honda               5710\n",
              "Kia Motors          5473\n",
              "Subaru              4138\n",
              "Suzuki              3867\n",
              "Jeep                3656\n",
              "Jaguar              2788\n",
              "MINI                2352\n",
              "Chrysler            1824\n",
              "Lexus               1749\n",
              "Caoa Chery          1583\n",
              "Maserati            1367\n",
              "Dodge               1206\n",
              "SSANGYONG           1174\n",
              "JAC                 1103\n",
              "IVECO                991\n",
              "Agrale               960\n",
              "Fibravan             921\n",
              "Ferrari              852\n",
              "EFFA                 820\n",
              "Troller              765\n",
              "BRM                  630\n",
              "Baby                 580\n",
              "Alfa Romeo           504\n",
              "JINBEI               468\n",
              "Daewoo               396\n",
              "Mazda                384\n",
              "CHANA                372\n",
              "Rolls-Royce          363\n",
              "Seat                 360\n",
              "FOTON                356\n",
              "LIFAN                348\n",
              "Mclaren              340\n",
              "smart                336\n",
              "Name: brand, dtype: int64"
            ]
          },
          "metadata": {},
          "execution_count": 7
        }
      ]
    },
    {
      "cell_type": "code",
      "source": [
        "dados.query(\"brand == 'Ferrari'\")['model'].value_counts().count()"
      ],
      "metadata": {
        "colab": {
          "base_uri": "https://localhost:8080/"
        },
        "id": "s-rdEKhmqKg4",
        "outputId": "df8255eb-e5c9-47f1-94b5-abc29da59074"
      },
      "execution_count": null,
      "outputs": [
        {
          "output_type": "execute_result",
          "data": {
            "text/plain": [
              "23"
            ]
          },
          "metadata": {},
          "execution_count": 8
        }
      ]
    },
    {
      "cell_type": "markdown",
      "source": [
        "## Roteiro de itens \n",
        "\n",
        "- plot preços versus tipo de comb\n",
        "- plot preços versus tipo de marcha\n",
        "- plot preços versus tamanho\n",
        "- random undersampling\n",
        "- Utilizar Marca JAC para fazer o modelo\n",
        "- Dropar \n"
      ],
      "metadata": {
        "id": "E34Ls3w5mwjR"
      }
    }
  ]
}